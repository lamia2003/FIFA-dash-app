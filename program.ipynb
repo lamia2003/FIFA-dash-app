{
 "cells": [
  {
   "cell_type": "markdown",
   "metadata": {},
   "source": [
    "Link to Site: "
   ]
  },
  {
   "cell_type": "code",
   "execution_count": null,
   "metadata": {},
   "outputs": [],
   "source": [
    "import pandas as pd\n",
    "from dash import dcc, html, Input, Output, Dash\n",
    "import plotly.graph_objects as go"
   ]
  },
  {
   "cell_type": "code",
   "execution_count": null,
   "metadata": {},
   "outputs": [
    {
     "data": {
      "text/html": [
       "\n",
       "        <iframe\n",
       "            width=\"100%\"\n",
       "            height=\"650\"\n",
       "            src=\"http://127.0.0.1:8050/\"\n",
       "            frameborder=\"0\"\n",
       "            allowfullscreen\n",
       "            \n",
       "        ></iframe>\n",
       "        "
      ],
      "text/plain": [
       "<IPython.lib.display.IFrame at 0x29cb8db51f0>"
      ]
     },
     "metadata": {},
     "output_type": "display_data"
    }
   ],
   "source": [
    "df = pd.read_csv('FIFA_data.csv')\n",
    "df['Winners'] = pd.to_numeric(df['Winners'], errors='coerce')\n",
    "winers_data = df[df['Winners'] > 0].copy()\n",
    "\n",
    "finalists = {}\n",
    "for _, row in df.iterrows():\n",
    "    team = row['Team']\n",
    "    years_won = row['Years won']\n",
    "    if pd.notna(years_won) and years_won.strip() != '—':\n",
    "        for year in years_won.split(','):\n",
    "            year = year.strip()\n",
    "            finalists.setdefault(year, {})['Winner'] = team\n",
    "    years_runner = row['Years runners-up']\n",
    "    if pd.notna(years_runner) and years_runner.strip() != '—':\n",
    "        for year in years_runner.split(','):\n",
    "            year = year.strip()\n",
    "            finalists.setdefault(year, {})['Runner-up'] = team\n",
    "\n",
    "winners_and_runners_per_year = []\n",
    "for year, info in finalists.items():\n",
    "    try:\n",
    "        year_int = int(year)\n",
    "    except ValueError:\n",
    "        continue\n",
    "    winners_and_runners_per_year.append({\n",
    "        'Year': year_int,\n",
    "        'Winner': info.get('Winner', 'N/A'),\n",
    "        'Runner-up': info.get('Runner-up', 'N/A')\n",
    "    })\n",
    "finals_df = pd.DataFrame(winners_and_runners_per_year)\n",
    "finals_df.sort_values(by='Year', inplace=True)\n",
    "\n",
    "fig = go.Figure(go.Choropleth(\n",
    "    locations=winers_data['Team'],\n",
    "    locationmode='country names',\n",
    "    z=winers_data['Winners'],\n",
    "    colorscale='magma',\n",
    "    colorbar_title='Number of Wins'\n",
    "))\n",
    "fig.update_layout(\n",
    "    title_text='FIFA World Cup Winners on the Map',\n",
    "    title_font_size=35,\n",
    "    geo=dict(showframe=True, showcoastlines=True),\n",
    "    height=1000\n",
    ")\n",
    "\n",
    "app = Dash()\n",
    "server=app.server\n",
    "\n",
    "app.layout = html.Div([\n",
    "    html.H1(\n",
    "        \"FIFA World Cup Dashboard\",\n",
    "        style={\n",
    "            'textAlign': 'center',\n",
    "            'fontSize': '42px',\n",
    "            'marginBottom': '20px',\n",
    "            'color':'blue'\n",
    "        }\n",
    "    ),\n",
    "    \n",
    "    html.Div(\n",
    "        dcc.Dropdown(\n",
    "            id='year-dropdown',\n",
    "            options=[{'label': str(year), 'value': year} for year in sorted(finals_df['Year'].unique())],\n",
    "            placeholder=\"Choose a year\",\n",
    "            style={'width': '300px'}\n",
    "        ),\n",
    "        style={'marginBottom': '20px', 'display': 'flex', 'justify-content': 'center', 'align-items': 'center'}\n",
    "    ),\n",
    "    \n",
    "    html.Div(\n",
    "        id='year-info',\n",
    "        style={\n",
    "            'padding': '20px',\n",
    "            'fontWeight': 'bold',\n",
    "            'color': 'green',\n",
    "            'textAlign': 'center',\n",
    "            'fontSize': '20px'\n",
    "        }\n",
    "    ),\n",
    "    \n",
    "    html.Div(\n",
    "        dcc.Graph(id='worldcup-choropleth', figure=fig, style={'width': '100%', 'margin': '0 auto'}),\n",
    "        style={'textAlign': 'center'}\n",
    "    )\n",
    "])\n",
    "\n",
    "@app.callback(\n",
    "    Output('year-info', 'children'),\n",
    "    Input('year-dropdown', 'value')\n",
    ")\n",
    "\n",
    "def years_winners_and_runner_up(year_chosen):\n",
    "    if year_chosen is not None:\n",
    "        year_val = int(year_chosen)\n",
    "        row = finals_df[finals_df['Year'] == year_val]\n",
    "        if not row.empty:\n",
    "            winner = row.iloc[0]['Winner']\n",
    "            runner_up = row.iloc[0]['Runner-up']\n",
    "            return f\"{year_val}- {winner} won with {runner_up} as the runner-up.\"\n",
    "    return \"Select a year to see the winner and runner up.\"\n",
    "\n",
    "if __name__ == '__main__':\n",
    "    app.run(debug=True)\n"
   ]
  },
  {
   "cell_type": "code",
   "execution_count": null,
   "metadata": {},
   "outputs": [],
   "source": []
  }
 ],
 "metadata": {
  "kernelspec": {
   "display_name": "Python 3",
   "language": "python",
   "name": "python3"
  },
  "language_info": {
   "codemirror_mode": {
    "name": "ipython",
    "version": 3
   },
   "file_extension": ".py",
   "mimetype": "text/x-python",
   "name": "python",
   "nbconvert_exporter": "python",
   "pygments_lexer": "ipython3",
   "version": "3.12.5"
  }
 },
 "nbformat": 4,
 "nbformat_minor": 2
}
